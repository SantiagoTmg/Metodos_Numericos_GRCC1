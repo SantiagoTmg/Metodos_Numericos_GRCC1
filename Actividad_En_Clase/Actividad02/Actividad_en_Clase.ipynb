{
 "cells": [
  {
   "cell_type": "code",
   "execution_count": 26,
   "id": "e1b43ae3",
   "metadata": {},
   "outputs": [],
   "source": [
    "from scipy.optimize import newton\n"
   ]
  },
  {
   "cell_type": "code",
   "execution_count": 25,
   "id": "1c3cfe86",
   "metadata": {},
   "outputs": [
    {
     "name": "stdout",
     "output_type": "stream",
     "text": [
      "-0.75\n",
      "-0.21304347826086956\n",
      "0.3497722823406223\n",
      "-0.982161361227515\n",
      "-0.38712896060635604\n",
      "0.11514119553402691\n",
      "2.7607068077006245\n",
      "2.7693457750981376\n",
      "2.7692923562879237\n"
     ]
    },
    {
     "data": {
      "text/plain": [
       "(np.float64(2.7692923542386314),\n",
       "       converged: True\n",
       "            flag: converged\n",
       "  function_calls: 18\n",
       "      iterations: 9\n",
       "            root: 2.7692923542386314\n",
       "          method: newton)"
      ]
     },
     "execution_count": 25,
     "metadata": {},
     "output_type": "execute_result"
    }
   ],
   "source": [
    "def f(x):\n",
    "    print(x)\n",
    "    return x**3 - 3*x**2 + x - 1\n",
    "\n",
    "def f_prime(x):\n",
    "    return 3*x**2 - 6*x + 1\n",
    "\n",
    "newton(f, x0=-0.75, fprime=f_prime, full_output=True)\n",
    "\n"
   ]
  }
 ],
 "metadata": {
  "kernelspec": {
   "display_name": "Python 3",
   "language": "python",
   "name": "python3"
  },
  "language_info": {
   "codemirror_mode": {
    "name": "ipython",
    "version": 3
   },
   "file_extension": ".py",
   "mimetype": "text/x-python",
   "name": "python",
   "nbconvert_exporter": "python",
   "pygments_lexer": "ipython3",
   "version": "3.13.3"
  }
 },
 "nbformat": 4,
 "nbformat_minor": 5
}

{
 "cells": [
  {
   "cell_type": "markdown",
   "id": "ff2cc011",
   "metadata": {},
   "source": [
    "#### **Nombre:** Moisés Pineda\n",
    "#### **Fecha:** 04/05/2025\n",
    "#### **Curso:** GR1CC\n",
    "#### **Docente:** Jonathan A. Zea"
   ]
  },
  {
   "cell_type": "markdown",
   "id": "8295c9ee",
   "metadata": {},
   "source": [
    "#### **CONJUNTO DE EJERCICIOS 1.3**"
   ]
  },
  {
   "cell_type": "markdown",
   "id": "9962f818",
   "metadata": {},
   "source": [
    "#### **1. 1.\tUtilice aritmética de corte de tres dígitos para calcular las siguientes sumas. Para cada parte, ¿Qué método es más preciso y por qué?**"
   ]
  },
  {
   "cell_type": "markdown",
   "id": "c676647d",
   "metadata": {},
   "source": [
    "##### **a.- $$ \\sum_{i=0}^{10} \\frac{1}{j^2} $$  Primero por:  $$ \\frac{1}{1} + \\frac{1}{4} + \\dots + \\frac{1}{100} $$  y luego por:  $$ \\frac{1}{100} + \\frac{1}{81} + \\dots + \\frac{1}{1} $$**  "
   ]
  },
  {
   "cell_type": "code",
   "execution_count": 2,
   "id": "c3569dd2",
   "metadata": {},
   "outputs": [],
   "source": [
    "import math\n",
    "\n",
    "def FL_rounding(num:float, digits:int)->float:\n",
    "  num = float(f\"{num:.{digits - 1}e}\")\n",
    "  return num\n",
    "\n",
    "\n",
    "def FL_truncating(num: float, digits: int) -> float:\n",
    "    if num == 0:\n",
    "        return 0\n",
    "\n",
    "    order = math.floor(math.log10(abs(num)))  # Encuentra el orden de magnitud del número\n",
    "    factor = 10 ** (digits - 1 - order)  # Ajusta el factor de truncamiento\n",
    "\n",
    "    return math.trunc(num * factor) / factor  # Truncamiento sin redondeo\n",
    "\n",
    "def suma_truncada_sentido_ascendente(n, digitos, funcion):\n",
    "    terms = []\n",
    "    suma = 0\n",
    "    contador = 0  # Contador para hacer truncamiento cada 2 sumas\n",
    "\n",
    "    for i in range(1, n + 1):\n",
    "        suma += 1 / i**2  # Sumar sin truncar cada término individualmente\n",
    "        contador += 1\n",
    "\n",
    "        if contador == 1:\n",
    "            suma = funcion(suma, 3)\n",
    "            contador = 0\n",
    "\n",
    "        terms.append(suma)\n",
    "\n",
    "    return funcion(suma, digitos), terms  # Truncamiento final\n",
    "\n",
    "def suma_truncada_sentido_descendente(n, digitos, funcion):\n",
    "    terms = []\n",
    "    suma = 0\n",
    "    contador = 0  # Contador para hacer truncamiento cada 2 sumas\n",
    "\n",
    "    for i in range(n, 0, -1):  # Iteramos desde n hasta 1\n",
    "        suma += 1 / i**2  # Sumar sin truncar cada término individualmente\n",
    "        contador += 1\n",
    "\n",
    "        if contador == 1:\n",
    "            suma = funcion(suma, 3)\n",
    "            contador = 0\n",
    "\n",
    "        terms.append(suma)\n",
    "\n",
    "    return funcion(suma, digitos), terms  # Truncamiento final"
   ]
  },
  {
   "cell_type": "code",
   "execution_count": 11,
   "id": "17d880ac",
   "metadata": {},
   "outputs": [
    {
     "name": "stdout",
     "output_type": "stream",
     "text": [
      "Suma truncada ascendente: 1.53; Terminos: [1.0, 1.25, 1.36, 1.42, 1.46, 1.48, 1.5, 1.51, 1.52, 1.53]\n",
      "Suma truncada descendente: 1.54; Terminos: [0.01, 0.0223, 0.0379, 0.0583, 0.086, 0.126, 0.188, 0.299, 0.548, 1.54]\n"
     ]
    }
   ],
   "source": [
    "resultado_suma, res = suma_truncada_sentido_ascendente(10, 3, FL_truncating)\n",
    "print(f\"Suma truncada ascendente: {resultado_suma}; Terminos: {res}\")\n",
    "\n",
    "resultado_suma_d, res2 = suma_truncada_sentido_descendente(10, 3, FL_truncating)\n",
    "print(f\"Suma truncada descendente: {resultado_suma_d}; Terminos: {res2}\")"
   ]
  },
  {
   "cell_type": "markdown",
   "id": "8e04224d",
   "metadata": {},
   "source": [
    "##### **b.-  $$ \\sum_{i=0}^{10} \\frac{1}{j^3} $$  Primero por:  $$ \\frac{1}{1} + \\frac{1}{8} + \\frac{1}{27} + \\dots + \\frac{1}{1000} $$  y luego por:  $$ \\frac{1}{1000} + \\frac{1}{729} + \\dots + \\frac{1}{1} $$** "
   ]
  },
  {
   "cell_type": "code",
   "execution_count": 7,
   "id": "2a2ec944",
   "metadata": {},
   "outputs": [],
   "source": [
    "def suma_truncada_sentido_ascendente_b(n, digitos, funcion):\n",
    "    terms = []\n",
    "    suma = 0\n",
    "    contador = 0  # Contador para hacer truncamiento cada 2 sumas\n",
    "\n",
    "    for i in range(1, n + 1):\n",
    "        suma += 1 / i**3  # Sumar sin truncar cada término individualmente\n",
    "        contador += 1\n",
    "\n",
    "        if contador == 1:\n",
    "            suma = funcion(suma, 3)\n",
    "            contador = 0\n",
    "\n",
    "        terms.append(suma)\n",
    "\n",
    "    return funcion(suma, digitos), terms  # Truncamiento final\n",
    "\n",
    "def suma_truncada_sentido_descendente_b(n, digitos, funcion):\n",
    "    terms = []\n",
    "    suma = 0\n",
    "    contador = 0  # Contador para hacer truncamiento cada 2 sumas\n",
    "\n",
    "    for i in range(n, 0, -1):  # Iteramos desde n hasta 1\n",
    "        suma += 1 / i**3  # Sumar sin truncar cada término individualmente\n",
    "        contador += 1\n",
    "\n",
    "        if contador == 1:\n",
    "            suma = funcion(suma, 3)\n",
    "            contador = 0\n",
    "\n",
    "        terms.append(suma)\n",
    "\n",
    "    return funcion(suma, digitos), terms  # Truncamiento final"
   ]
  },
  {
   "cell_type": "code",
   "execution_count": 10,
   "id": "7a319795",
   "metadata": {},
   "outputs": [
    {
     "name": "stdout",
     "output_type": "stream",
     "text": [
      "Suma truncada ascendente: 1.15; Terminos: [1.0, 1.12, 1.15, 1.16, 1.16, 1.16, 1.16, 1.16, 1.16, 1.16]\n",
      "Suma truncada descendente: 1.19; Terminos: [0.001, 0.00237, 0.00432, 0.00723, 0.0118, 0.0197, 0.0353, 0.0723, 0.197, 1.19]\n"
     ]
    }
   ],
   "source": [
    "resultado_suma, res = suma_truncada_sentido_ascendente_b(10, 3, FL_truncating)\n",
    "print(f\"Suma truncada ascendente: {resultado_suma}; Terminos: {res}\")\n",
    "\n",
    "resultado_suma_d, res2 = suma_truncada_sentido_descendente_b(10, 3, FL_truncating)\n",
    "print(f\"Suma truncada descendente: {resultado_suma_d}; Terminos: {res2}\")"
   ]
  },
  {
   "cell_type": "markdown",
   "id": "4e256a4d",
   "metadata": {},
   "source": [
    "#### **2.0 La serie de Maclaurin para la función arcotangente converge para -1<x≤1 y está dada por** $$ \\arctan x = \\lim_{n \\to \\infty} P_n(x) = \\lim_{n \\to \\infty} \\sum_{i=1}^{n} (-1)^{i+1} \\frac{x^{2i-1}}{2i-1} $$"
   ]
  },
  {
   "cell_type": "markdown",
   "id": "48f8067d",
   "metadata": {},
   "source": [
    "##### **a.- Utilice el hecho de que tan⁡〖π⁄4=1〗 para determinar el número n de términos de la serie que se necesita sumar para garantizar que $$|4P_n(1) - \\pi| < 10^{-3}$$**"
   ]
  },
  {
   "cell_type": "code",
   "execution_count": 12,
   "id": "ed18e55a",
   "metadata": {},
   "outputs": [
    {
     "name": "stdout",
     "output_type": "stream",
     "text": [
      "Número de términos necesarios: 1000\n",
      "Valor aproximado de π: 3.140592653839794\n"
     ]
    }
   ],
   "source": [
    "def error_Absoluto(valor):\n",
    "    return abs(4 * valor - math.pi)\n",
    "\n",
    "def expresion(n):\n",
    "    return ((-1)**(n+1)) / (2*n-1)\n",
    "\n",
    "def sumatoria(error_maximo):\n",
    "    sumatoria = 0\n",
    "    contador = 0\n",
    "    while error_Absoluto(sumatoria) > error_maximo:  # Comprobamos que el error sea menor al deseado\n",
    "        contador += 1\n",
    "        sumatoria += expresion(contador)\n",
    "\n",
    "    return sumatoria, contador\n",
    "\n",
    "error = 1e-3  # Error máximo permitido\n",
    "suma_aproximada, num_terminos = sumatoria(error)\n",
    "\n",
    "print(f\"Número de términos necesarios: {num_terminos}\")\n",
    "print(f\"Valor aproximado de π: {4 * suma_aproximada}\")"
   ]
  },
  {
   "cell_type": "markdown",
   "id": "70a30570",
   "metadata": {},
   "source": [
    "##### **b.- El lenguaje de programación C++ requiere que el valor de π se encuentre dentro de 10^(-10). ¿Cuántos términos de la serie se necesitarían sumar para obtener este grado de precisión?** "
   ]
  },
  {
   "cell_type": "code",
   "execution_count": 13,
   "id": "67b3580d",
   "metadata": {},
   "outputs": [
    {
     "name": "stdout",
     "output_type": "stream",
     "text": [
      "Número de iteraciones máximo alcanzado: 1000000\n",
      "Valor aproximado de π: 3.1415936535907742\n"
     ]
    }
   ],
   "source": [
    "def sumatoriaConLimitacion(error_maximo):\n",
    "    sumatoria = 0\n",
    "    contador = 1\n",
    "    mensaje = \"\"\n",
    "\n",
    "    while True:  # Ejecutar hasta alcanzar el error deseado\n",
    "        sumatoria += expresion(contador)\n",
    "        if error_Absoluto(sumatoria) < error_maximo:  # Detener cuando el error sea menor\n",
    "            break\n",
    "        contador += 1\n",
    "        if contador != 1000000:\n",
    "          mensaje = f\"Número de términos necesarios: {contador}\"\n",
    "        else:\n",
    "          mensaje = f\"Número de iteraciones máximo alcanzado: {contador}\"\n",
    "          break\n",
    "\n",
    "    return sumatoria, mensaje\n",
    "\n",
    "error_maxi = 1e-10\n",
    "suma_aproxi, num_termi = sumatoriaConLimitacion(error_maxi)\n",
    "\n",
    "print(num_termi)\n",
    "print(f\"Valor aproximado de π: {4 * suma_aproxi}\")"
   ]
  },
  {
   "cell_type": "markdown",
   "id": "bc9f12dd",
   "metadata": {},
   "source": [
    "#### **3.0  \tOtra fórmula para calcular π se puede deducir a partir de la identidad $$\\frac{\\pi}{4} = 4 \\tan^{-1} \\left(\\frac{1}{5}\\right) - \\tan^{-1} \\left(\\frac{1}{239}\\right)$$Determine el número de términos que se deben sumar para garantizar una aproximación π dentro de 10^(-3).**"
   ]
  },
  {
   "cell_type": "code",
   "execution_count": 14,
   "id": "7f2de3b3",
   "metadata": {},
   "outputs": [
    {
     "name": "stdout",
     "output_type": "stream",
     "text": [
      "Número de términos necesarios: 2\n",
      "Valor de pi calculado: 3.1405970293260603\n",
      "Error absoluto: 0.0009956242637327861\n"
     ]
    }
   ],
   "source": [
    "def arctan(x, n):\n",
    "  suma = 0\n",
    "  for i in range(n):\n",
    "    expresion = ((-1)**i) * ((x)**(2*i+1))/(2*i + 1)\n",
    "    suma += expresion\n",
    "  return suma\n",
    "\n",
    "def calculoPi(error_maximo):\n",
    "  n = 1\n",
    "  pi_aproximado = 4 * (4 * arctan(1/5, n) - arctan(1/239, n))\n",
    "\n",
    "  while abs(pi_aproximado - math.pi) > error_maximo:\n",
    "    n += 1\n",
    "    pi_aproximado = 4 * (4 * arctan(1/5, n) - arctan(1/239, n))\n",
    "\n",
    "  return n, pi_aproximado\n",
    "\n",
    "error = 1e-3\n",
    "n_term, pi_calculado = calculoPi(error)\n",
    "\n",
    "print(f\"Número de términos necesarios: {n_term}\")\n",
    "print(f\"Valor de pi calculado: {pi_calculado}\")\n",
    "print(f\"Error absoluto: {abs(pi_calculado - math.pi)}\")"
   ]
  },
  {
   "cell_type": "markdown",
   "id": "487288f8",
   "metadata": {},
   "source": [
    "#### **4.0 Compare los siguientes tres algoritmos. ¿Cuándo es correcto el algoritmo de la parte 1a?**"
   ]
  },
  {
   "cell_type": "markdown",
   "id": "e52e88a4",
   "metadata": {},
   "source": [
    "##### **a.-**"
   ]
  },
  {
   "cell_type": "code",
   "execution_count": 15,
   "id": "bbf173c6",
   "metadata": {},
   "outputs": [],
   "source": [
    "def algo_a(lista):\n",
    "  product = 0\n",
    "  for i in lista:\n",
    "    product *= i\n",
    "  return product"
   ]
  },
  {
   "cell_type": "markdown",
   "id": "ef059c55",
   "metadata": {},
   "source": [
    "##### **b.-**"
   ]
  },
  {
   "cell_type": "code",
   "execution_count": 16,
   "id": "dfd12ac0",
   "metadata": {},
   "outputs": [],
   "source": [
    "def algo_b(lista):\n",
    "  product = 1\n",
    "  for i in lista:\n",
    "    product *= i\n",
    "  return product"
   ]
  },
  {
   "cell_type": "markdown",
   "id": "1c10a4a2",
   "metadata": {},
   "source": [
    "##### **c.-**"
   ]
  },
  {
   "cell_type": "code",
   "execution_count": 17,
   "id": "d8d7f289",
   "metadata": {},
   "outputs": [],
   "source": [
    "def algo_c(lista):\n",
    "  product = 1\n",
    "  for i in lista:\n",
    "    if i == 0:\n",
    "      return 0\n",
    "    product *= i\n",
    "  return product"
   ]
  },
  {
   "cell_type": "markdown",
   "id": "9cd8071b",
   "metadata": {},
   "source": [
    "##### **Respuestas:**"
   ]
  },
  {
   "cell_type": "code",
   "execution_count": 30,
   "id": "595c0198",
   "metadata": {},
   "outputs": [
    {
     "name": "stdout",
     "output_type": "stream",
     "text": [
      "\n",
      "Caso de prueba: [2, 3, 4]\n",
      "algo_a → 0\n",
      "algo_b → 24\n",
      "algo_c → 24\n",
      "\n",
      "Caso de prueba: [1, 5, 7]\n",
      "algo_a → 0\n",
      "algo_b → 35\n",
      "algo_c → 35\n"
     ]
    }
   ],
   "source": [
    "casos_prueba = [\n",
    "    [2, 3, 4],  # Producto normal\n",
    "    [1, 5, 7],  # Producto normal\n",
    "]\n",
    "\n",
    "# Ejecución de todos los algoritmos\n",
    "for caso in casos_prueba:\n",
    "    resultado_a = algo_a(caso)\n",
    "    resultado_b = algo_b(caso)\n",
    "    resultado_c = algo_c(caso)\n",
    "\n",
    "    print(f\"\\nCaso de prueba: {caso}\")\n",
    "    print(f\"algo_a → {resultado_a}\")  # Siempre dará 0\n",
    "    print(f\"algo_b → {resultado_b}\")  # Producto correcto\n",
    "    print(f\"algo_c → {resultado_c}\")  # Producto correcto con detección de ceros"
   ]
  },
  {
   "cell_type": "markdown",
   "id": "6a81655f",
   "metadata": {},
   "source": [
    "#### **5.0 a.-¿Cuántas multiplicaciones y sumas se requieren para determinar una suma de la forma? $$\\sum_{i=1}^{n} \\sum_{j=1}^{i} a_i b_j$$**"
   ]
  },
  {
   "cell_type": "code",
   "execution_count": 21,
   "id": "5e8c3619",
   "metadata": {},
   "outputs": [
    {
     "name": "stdout",
     "output_type": "stream",
     "text": [
      "Para n = 6:\n",
      "Total de multiplicaciones: 21\n",
      "Total de sumas: 20\n"
     ]
    }
   ],
   "source": [
    "def contar_operaciones(n):\n",
    "    multiplicaciones = 0\n",
    "    sumas = 0\n",
    "    \n",
    "    for i in range(1, n + 1):\n",
    "        for j in range(1, i + 1):\n",
    "            multiplicaciones += 1  # Se realiza una multiplicación\n",
    "            if i != 1 or j != 1:  # Se cuenta cada suma excepto la primera operación\n",
    "                sumas += 1\n",
    "    \n",
    "    return multiplicaciones, sumas\n",
    "\n",
    "# Solicitar entrada al usuario\n",
    "n = 6\n",
    "multiplicaciones, sumas = contar_operaciones(n)\n",
    "\n",
    "print(f\"Para n = {n}:\")\n",
    "print(f\"Total de multiplicaciones: {multiplicaciones}\")\n",
    "print(f\"Total de sumas: {sumas}\")"
   ]
  },
  {
   "cell_type": "markdown",
   "id": "d716e410",
   "metadata": {},
   "source": [
    "#### **b.- Modifique la suma en la parte a) a un formato equivalente que reduzca el número de cálculos.** "
   ]
  },
  {
   "cell_type": "code",
   "execution_count": 22,
   "id": "d1c78a7c",
   "metadata": {},
   "outputs": [
    {
     "name": "stdout",
     "output_type": "stream",
     "text": [
      "Para n = 6:\n",
      "Total de multiplicaciones: 12\n",
      "Total de sumas: 5\n"
     ]
    }
   ],
   "source": [
    "def contar_operaciones_modificada(n):\n",
    "    multiplicaciones = 2 * n  # Cada término requiere 2 multiplicaciones\n",
    "    sumas = n - 1  # Se realizan n - 1 sumas para combinar los términos\n",
    "    \n",
    "    return multiplicaciones, sumas\n",
    "\n",
    "# Solicitar entrada al usuario\n",
    "n = 6\n",
    "multiplicaciones, sumas = contar_operaciones_modificada(n)\n",
    "\n",
    "print(f\"Para n = {n}:\")\n",
    "print(f\"Total de multiplicaciones: {multiplicaciones}\")\n",
    "print(f\"Total de sumas: {sumas}\")\n"
   ]
  },
  {
   "cell_type": "markdown",
   "id": "e820323d",
   "metadata": {},
   "source": [
    "#### **DISCUSIONES**"
   ]
  },
  {
   "cell_type": "markdown",
   "id": "269bf659",
   "metadata": {},
   "source": [
    "##### **1.- Escriba un algoritmo para sumar la serie finita:$$\\sum_{i=1}^{n} x_i$$en orden inverso.**"
   ]
  },
  {
   "cell_type": "code",
   "execution_count": 23,
   "id": "35d9d2a9",
   "metadata": {},
   "outputs": [],
   "source": [
    "def sumaFinita(lista):\n",
    "  suma = 0\n",
    "  for i in reversed(lista):\n",
    "    suma += i\n",
    "  return suma"
   ]
  },
  {
   "cell_type": "code",
   "execution_count": 29,
   "id": "7bca939a",
   "metadata": {},
   "outputs": [
    {
     "name": "stdout",
     "output_type": "stream",
     "text": [
      "24\n",
      "17.999999999999996\n"
     ]
    }
   ],
   "source": [
    "print(sumaFinita([3, 5, 7, 9])) \n",
    "print(sumaFinita([1.2, 3.4, 5.6, 7.8]))  "
   ]
  },
  {
   "cell_type": "markdown",
   "id": "254bb75e",
   "metadata": {},
   "source": [
    "#### **2.- Las ecuaciones (1.2) y (1.3) en la sección 1.2 proporcionan formas alternativas para las raíces \\( x_1 \\) y \\( x_2 \\) de:$$ax^2 + bx + c = 0$$Construya un algoritmo con entrada \\( a, b, c \\) y salida \\( x_1, x_2 \\) que calcule las raíces \\( x_1 \\) y \\( x_2 \\) (que pueden ser iguales o conjugados complejos) mediante la mejor fórmula para cada raíz.**"
   ]
  },
  {
   "cell_type": "code",
   "execution_count": 24,
   "id": "2e5786d2",
   "metadata": {},
   "outputs": [],
   "source": [
    "def calculoDeRaices(a, b, c):\n",
    "    discriminante = b**2 - 4*a*c\n",
    "    if discriminante > 0:\n",
    "        if b > 0:\n",
    "            x1 = (-b - discriminante**0.5) / (2*a)\n",
    "            x2 = (2*c) / (-b - discriminante**0.5)\n",
    "        else:\n",
    "            x1 = (-b + discriminante**0.5) / (2*a)\n",
    "            x2 = (2*c) / (-b + discriminante**0.5)\n",
    "        return f\"Raíces reales: x1 = {x1}, x2 = {x2}\"\n",
    "    elif discriminante == 0:\n",
    "        x = -b / (2*a)\n",
    "        return f\"Raíces iguales y reales: x = {x}\"\n",
    "    else:\n",
    "        p_real = -b / (2*a)\n",
    "        p_imaginaria = (abs(discriminante))**0.5 / (2*a)\n",
    "        return f\"Raíces complejas: x1 = {p_real} + {p_imaginaria}i, x2 = {p_real} - {p_imaginaria}i\""
   ]
  },
  {
   "cell_type": "code",
   "execution_count": 25,
   "id": "7bb37b2e",
   "metadata": {},
   "outputs": [
    {
     "name": "stdout",
     "output_type": "stream",
     "text": [
      "Raíces reales: x1 = 2.0, x2 = 1.0\n",
      "Raíces iguales y reales: x = 1.0\n",
      "Raíces complejas: x1 = -1.0 + 2.0i, x2 = -1.0 - 2.0i\n"
     ]
    }
   ],
   "source": [
    "print(calculoDeRaices(1, -3, 2))  # Raíces reales distintas\n",
    "print(calculoDeRaices(1, -2, 1))  # Raíces iguales\n",
    "print(calculoDeRaices(1, 2, 5))   # Raíces complejas"
   ]
  },
  {
   "cell_type": "markdown",
   "id": "a1a10c3d",
   "metadata": {},
   "source": [
    "#### **Suponga que:$$\\frac{1 - 2x}{1 - x + x^2} + \\frac{2x - 4x^3}{1 - x^2 + x^4} + \\frac{4x^3 - 8x^7}{1 - x^4 + x^8} + \\dots = \\frac{1 + 2x}{1 + x + x^2}$$Para \\( x < 1 \\) y si \\( x = 0.25 \\). Escriba y ejecute un algoritmo que determine el número de términos necesarios en el lado izquierdo de la ecuación de tal forma que el lado izquierdo difiera del lado derecho en menos de \\( 10^{-6} \\).**\n"
   ]
  },
  {
   "cell_type": "code",
   "execution_count": 26,
   "id": "093da942",
   "metadata": {},
   "outputs": [],
   "source": [
    "def expresionIzquierda(n, x):\n",
    "  return (2**(n-1)*x**(2**(n-1)-1)-2**n*x**(2**n-1))/(1-x**(2**(n-1))+x**(2**n))\n",
    "\n",
    "def expresionDerecha(x):\n",
    "  return (1+2*x)/(1+x+x**2)\n",
    "\n",
    "def sumatoria3(n, x):\n",
    "  suma = 0\n",
    "  for i in range(1, n+1):\n",
    "    suma += expresionIzquierda(i, x)\n",
    "  return suma\n",
    "\n",
    "def calculoTerminos(x, errorLimite):\n",
    "  n = 1\n",
    "  while abs(sumatoria3(n, x) - expresionDerecha(x)) > errorLimite:\n",
    "    n += 1\n",
    "  return n"
   ]
  },
  {
   "cell_type": "code",
   "execution_count": 27,
   "id": "7398b6e9",
   "metadata": {},
   "outputs": [
    {
     "name": "stdout",
     "output_type": "stream",
     "text": [
      "Número de términos: 4\n",
      "Aproximación: 1.1428571279559818\n"
     ]
    }
   ],
   "source": [
    "x = 0.25\n",
    "errorLimite = 1e-6\n",
    "n_terminos = calculoTerminos(x, errorLimite)\n",
    "aproximación = sumatoria3(n_terminos, x)\n",
    "print(f\"Número de términos: {n_terminos}\")\n",
    "print(f\"Aproximación: {aproximación}\")"
   ]
  }
 ],
 "metadata": {
  "kernelspec": {
   "display_name": "Python 3",
   "language": "python",
   "name": "python3"
  },
  "language_info": {
   "codemirror_mode": {
    "name": "ipython",
    "version": 3
   },
   "file_extension": ".py",
   "mimetype": "text/x-python",
   "name": "python",
   "nbconvert_exporter": "python",
   "pygments_lexer": "ipython3",
   "version": "3.13.3"
  }
 },
 "nbformat": 4,
 "nbformat_minor": 5
}

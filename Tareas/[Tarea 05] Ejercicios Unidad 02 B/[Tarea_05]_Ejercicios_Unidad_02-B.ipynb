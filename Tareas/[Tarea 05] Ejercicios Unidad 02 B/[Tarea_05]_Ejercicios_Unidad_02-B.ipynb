{
 "cells": [
  {
   "cell_type": "markdown",
   "id": "a8bdc2e5",
   "metadata": {},
   "source": [
    "#### **Nombre:** Moisés Pineda\n",
    "#### **Fecha:** 11/05/2025\n",
    "#### **Curso:** GR1CC\n",
    "#### **Docente:** Jonathan A. Zea"
   ]
  },
  {
   "cell_type": "markdown",
   "id": "c3c41699",
   "metadata": {},
   "source": [
    "#### **CONJUNTO DE EJERCICIOS**"
   ]
  },
  {
   "cell_type": "markdown",
   "id": "a1d0f594",
   "metadata": {},
   "source": [
    "#### **1. \tSea $$f(x) = -x^3 - \\cos x$$  y \\( p_0 = -1 \\). Use el método de Newton y de la Secante para encontrar \\( p_2 \\). ¿Se podría usar \\( p_0 = 0 \\)?**"
   ]
  },
  {
   "cell_type": "markdown",
   "id": "15e6d056",
   "metadata": {},
   "source": [
    "##### Método de Newton"
   ]
  },
  {
   "cell_type": "code",
   "execution_count": 69,
   "id": "c7175140",
   "metadata": {},
   "outputs": [
    {
     "name": "stdout",
     "output_type": "stream",
     "text": [
      "P_2: x = -0.8656841631760818\n",
      "Raíz aproximada: -0.865474075952977, Iteraciones totales: 3\n"
     ]
    }
   ],
   "source": [
    "import numpy as np\n",
    "\n",
    "def f(x):\n",
    "    return -x**3 - np.cos(x)\n",
    "\n",
    "def f_prime(x):\n",
    "    return -3*x**2 + np.sin(x)\n",
    "\n",
    "def metodo_de_Newton(f, fprime, x0, tol):\n",
    "    x = x0\n",
    "    n = 0\n",
    "    while abs(f(x)) > tol:\n",
    "        x = x - f(x) / fprime(x)\n",
    "        n += 1\n",
    "        if n == 2:  # Imprimir resultado cuando n = 2\n",
    "            print(f\"P_{n}: x = {x}\")\n",
    "    \n",
    "    return x, n\n",
    "\n",
    "# Llamada a la función\n",
    "resultado, iteraciones = metodo_de_Newton(f, f_prime, -1, 1e-4)\n",
    "print(f\"Raíz aproximada: {resultado}, Iteraciones totales: {iteraciones}\")"
   ]
  },
  {
   "cell_type": "markdown",
   "id": "0b98654e",
   "metadata": {},
   "source": [
    "##### Método de la secante"
   ]
  },
  {
   "cell_type": "code",
   "execution_count": 70,
   "id": "1cf29b6b",
   "metadata": {},
   "outputs": [
    {
     "name": "stdout",
     "output_type": "stream",
     "text": [
      "P_2: x = -1.2520764889092288\n",
      "Raíz aproximada: -0.8654557261640932, Iteraciones totales: 6\n"
     ]
    }
   ],
   "source": [
    "def metodo_de_la_secante(f, x0, x1, tol):\n",
    "    n = 0\n",
    "    while abs(f(x1)) > tol:\n",
    "        x_temp = x1 - (f(x1) * (x1 - x0)) / (f(x1) - f(x0))\n",
    "        x0, x1 = x1, x_temp\n",
    "        n += 1\n",
    "        if n == 2:  # Imprimir resultado cuando n = 2\n",
    "            print(f\"P_{n}: x = {x1}\")\n",
    "    \n",
    "    return x1, n\n",
    "\n",
    "# Llamada a la función\n",
    "resultado, iteraciones = metodo_de_la_secante(f, -1, 0, 1e-4)\n",
    "print(f\"Raíz aproximada: {resultado}, Iteraciones totales: {iteraciones}\")"
   ]
  },
  {
   "cell_type": "markdown",
   "id": "83ea0995",
   "metadata": {},
   "source": [
    "#### **2. \tEncuentre soluciones precisas dentro de 10^(-4) para los siguientes problemas.**"
   ]
  },
  {
   "cell_type": "code",
   "execution_count": 71,
   "id": "25cd0e01",
   "metadata": {},
   "outputs": [],
   "source": [
    "def metodo_de_Newton_2(f, fprime, x0, tol):\n",
    "    x = x0\n",
    "    n = 0\n",
    "    while abs(f(x)) > tol:\n",
    "        x = x - f(x) / fprime(x)\n",
    "        n += 1\n",
    "    \n",
    "    return x, n\n",
    "\n",
    "def metodo_de_la_secante_2(f, x0, x1, tol):\n",
    "    n = 0\n",
    "    while abs(f(x1)) > tol:\n",
    "        x_temp = x1 - (f(x1) * (x1 - x0)) / (f(x1) - f(x0))\n",
    "        x0, x1 = x1, x_temp\n",
    "        n += 1\n",
    "    \n",
    "    return x1, n"
   ]
  },
  {
   "cell_type": "markdown",
   "id": "f1d93df8",
   "metadata": {},
   "source": [
    "##### a. $$ x^3 - 2x^2 - 5 = 0, \\quad [1, 4] $$"
   ]
  },
  {
   "cell_type": "code",
   "execution_count": 72,
   "id": "3f170a65",
   "metadata": {},
   "outputs": [
    {
     "name": "stdout",
     "output_type": "stream",
     "text": [
      "Raíz aproximada: 2.6906484961992585, Iteraciones totales: 9\n"
     ]
    }
   ],
   "source": [
    "def f_2a(x):\n",
    "    return x**3 -2*x**2 -5\n",
    "\n",
    "resultado, iteraciones = metodo_de_la_secante_2(f_2a, 1, 4, 1e-4)\n",
    "print(f\"Raíz aproximada: {resultado}, Iteraciones totales: {iteraciones}\")"
   ]
  },
  {
   "cell_type": "markdown",
   "id": "d142f77a",
   "metadata": {},
   "source": [
    "##### b. $$ x^3 + 3x^2 - 1 = 0, \\quad [-3, -2] $$"
   ]
  },
  {
   "cell_type": "code",
   "execution_count": 73,
   "id": "4701e7fb",
   "metadata": {},
   "outputs": [
    {
     "name": "stdout",
     "output_type": "stream",
     "text": [
      "Raíz aproximada: -2.879385194736809, Iteraciones totales: 6\n"
     ]
    }
   ],
   "source": [
    "def f_2b(x):\n",
    "    return x**3 + 3*x**2 - 1\n",
    "\n",
    "resultado, iteraciones = metodo_de_la_secante_2(f_2b, -3, -2, 1e-4)\n",
    "print(f\"Raíz aproximada: {resultado}, Iteraciones totales: {iteraciones}\")"
   ]
  },
  {
   "cell_type": "markdown",
   "id": "319f0fde",
   "metadata": {},
   "source": [
    "##### c. $$ x - \\cos x = 0, \\quad \\left[ 0, \\frac{\\pi}{2} \\right] $$"
   ]
  },
  {
   "cell_type": "code",
   "execution_count": 74,
   "id": "3853810c",
   "metadata": {},
   "outputs": [
    {
     "name": "stdout",
     "output_type": "stream",
     "text": [
      "Raíz aproximada: 0.7390834365030763, Iteraciones totales: 4\n"
     ]
    }
   ],
   "source": [
    "def f_2c(x):\n",
    "    return x - np.cos(x)\n",
    "\n",
    "resultado, iteraciones = metodo_de_la_secante_2(f_2c, 0, np.pi/2, 1e-4)\n",
    "print(f\"Raíz aproximada: {resultado}, Iteraciones totales: {iteraciones}\")"
   ]
  },
  {
   "cell_type": "markdown",
   "id": "e400218e",
   "metadata": {},
   "source": [
    "##### d. $$ x - 0.8 - 0.2 \\sin x = 0, \\quad \\left[ 0, \\frac{\\pi}{2} \\right] $$"
   ]
  },
  {
   "cell_type": "code",
   "execution_count": 75,
   "id": "25ae60e3",
   "metadata": {},
   "outputs": [
    {
     "name": "stdout",
     "output_type": "stream",
     "text": [
      "Raíz aproximada: 0.9643460851039055, Iteraciones totales: 3\n"
     ]
    }
   ],
   "source": [
    "def f_2d(x):\n",
    "    return x - 0.8 - 0.2*np.sin(x)\n",
    "\n",
    "resultado, iteraciones = metodo_de_la_secante_2(f_2d, 0, np.pi/2, 1e-4)\n",
    "print(f\"Raíz aproximada: {resultado}, Iteraciones totales: {iteraciones}\")"
   ]
  },
  {
   "cell_type": "markdown",
   "id": "87b1ef6e",
   "metadata": {},
   "source": [
    "#### **3. \tUse los 2 métodos en esta sección para encontrar las soluciones dentro de 10^(-5) para los siguientes problemas.**"
   ]
  },
  {
   "cell_type": "markdown",
   "id": "cf006e59",
   "metadata": {},
   "source": [
    "##### a. $$ 3x - e^x = 0, \\quad 1 \\leq x \\leq 2 $$"
   ]
  },
  {
   "cell_type": "code",
   "execution_count": 76,
   "id": "3ff9cb8e",
   "metadata": {},
   "outputs": [
    {
     "name": "stdout",
     "output_type": "stream",
     "text": [
      "Raíz aproximada metodo de Newton: 1.512134625427124, Iteraciones totales: 2\n",
      "Raíz aproximada metodo de la secante: 1.5121339760022816, Iteraciones totales: 8\n"
     ]
    }
   ],
   "source": [
    "def f_3a(x):\n",
    "    return 3*x - np.exp(x)\n",
    "\n",
    "def f_3a_prime(x):\n",
    "    return 3 - np.exp(x)\n",
    "\n",
    "resultado, iteraciones = metodo_de_Newton_2(f_3a, f_3a_prime, 1.5, 1e-5)\n",
    "print(f\"Raíz aproximada metodo de Newton: {resultado}, Iteraciones totales: {iteraciones}\")\n",
    "\n",
    "resultado_secante, iteraciones_secante = metodo_de_la_secante_2(f_3a, 1, 2, 1e-5)\n",
    "print(f\"Raíz aproximada metodo de la secante: {resultado_secante}, Iteraciones totales: {iteraciones_secante}\")"
   ]
  },
  {
   "cell_type": "markdown",
   "id": "8f39ff08",
   "metadata": {},
   "source": [
    "##### b. $$ 2x + 3 \\cos x - e^x = 0, \\quad 1 \\leq x \\leq 2 $$"
   ]
  },
  {
   "cell_type": "code",
   "execution_count": 77,
   "id": "add6d4a1",
   "metadata": {},
   "outputs": [
    {
     "name": "stdout",
     "output_type": "stream",
     "text": [
      "Raíz aproximada metodo de Newton: 1.2397147825931407, Iteraciones totales: 3\n",
      "Raíz aproximada metodo de la secante: 1.239714692081511, Iteraciones totales: 5\n"
     ]
    }
   ],
   "source": [
    "def f_3b(x):\n",
    "    return 2*x + 3*np.cos(x) - np.exp(x)\n",
    "\n",
    "def f_3b_prime(x):\n",
    "    return 2 - np.exp(x) - 3*np.sin(x)\n",
    "\n",
    "resultado, iteraciones = metodo_de_Newton_2(f_3b, f_3b_prime, 1.5, 1e-5)\n",
    "print(f\"Raíz aproximada metodo de Newton: {resultado}, Iteraciones totales: {iteraciones}\")\n",
    "\n",
    "resultado_secante, iteraciones_secante = metodo_de_la_secante_2(f_3b, 1, 2, 1e-5)\n",
    "print(f\"Raíz aproximada metodo de la secante: {resultado_secante}, Iteraciones totales: {iteraciones_secante}\")"
   ]
  },
  {
   "cell_type": "markdown",
   "id": "940fb34b",
   "metadata": {},
   "source": [
    "#### **4.\tEl polinomio de cuarto grado $$f(x) = 230x^4 + 18x^3 + 9x^2 - 221x - 9$$ Tiene dos ceros reales, uno en [-1,0] y el otro en [0,1]. Intente aproximar estos ceros dentro de 10^(-6) con**"
   ]
  },
  {
   "cell_type": "markdown",
   "id": "a6b63336",
   "metadata": {},
   "source": [
    "##### a.\tEl método de la secante (use los extremos como las estimaciones iniciales)"
   ]
  },
  {
   "cell_type": "code",
   "execution_count": 78,
   "id": "6c899a31",
   "metadata": {},
   "outputs": [
    {
     "name": "stdout",
     "output_type": "stream",
     "text": [
      "Intervalo [-1, 0]\n",
      "Raíz aproximada metodo de la secante: -0.040659288315725135, Iteraciones totales: 4\n",
      "\n",
      "\n",
      "Intervalo [0, 1]\n",
      "Raíz aproximada metodo de la secante: -0.04065928831557162, Iteraciones totales: 11\n"
     ]
    }
   ],
   "source": [
    "def f_4a(x):\n",
    "    return 230*x**4 + 18*x**3 + 9*x**2 - 221*x - 9\n",
    "\n",
    "resultado_secante, iteraciones_secante = metodo_de_la_secante_2(f_4a, -1, 0, 1e-6)\n",
    "print(\"Intervalo [-1, 0]\")\n",
    "print(f\"Raíz aproximada metodo de la secante: {resultado_secante}, Iteraciones totales: {iteraciones_secante}\")\n",
    "\n",
    "print(\"\\n\")\n",
    "resultado_secante, iteraciones_secante = metodo_de_la_secante_2(f_4a, 0, 1, 1e-6)\n",
    "print(\"Intervalo [0, 1]\")\n",
    "print(f\"Raíz aproximada metodo de la secante: {resultado_secante}, Iteraciones totales: {iteraciones_secante}\")"
   ]
  },
  {
   "cell_type": "markdown",
   "id": "855dbba8",
   "metadata": {},
   "source": [
    "##### b.\tEl método de Newton (use el punto medio como la estimación inicial)"
   ]
  },
  {
   "cell_type": "code",
   "execution_count": 79,
   "id": "ab33b545",
   "metadata": {},
   "outputs": [
    {
     "name": "stdout",
     "output_type": "stream",
     "text": [
      "Intervalo [-1, 0]\n",
      "Raíz aproximada metodo de Newton: -0.04065928831575899, Iteraciones totales: 4\n",
      "Intervalo [0, 1]\n",
      "Raíz aproximada metodo de Newton: 0.9623984187505416, Iteraciones totales: 15\n"
     ]
    }
   ],
   "source": [
    "def f_4b(x):\n",
    "    return 230*x**4 + 18*x**3 + 9*x**2 - 221*x - 9\n",
    "\n",
    "def f_4b_prime(x):\n",
    "    return 920*x**3 + 54*x**2 + 18*x - 221\n",
    "\n",
    "resultado, iteraciones = metodo_de_Newton_2(f_4b, f_4b_prime, -0.5, 1e-6)\n",
    "print(\"Intervalo [-1, 0]\") \n",
    "print(f\"Raíz aproximada metodo de Newton: {resultado}, Iteraciones totales: {iteraciones}\")\n",
    "\n",
    "resultado, iteraciones = metodo_de_Newton_2(f_4b, f_4b_prime, 0.6, 1e-6)\n",
    "print(\"Intervalo [0, 1]\")   \n",
    "print(f\"Raíz aproximada metodo de Newton: {resultado}, Iteraciones totales: {iteraciones}\")"
   ]
  },
  {
   "cell_type": "markdown",
   "id": "365c7fe8",
   "metadata": {},
   "source": [
    "#### **5. \tLa función $$f(x) = \\tan(\\pi x) - 6$$ tiene cero en (1/π) arcotangente 6 ≈0.447431543. Sea p_o=0 y p_1=0.48 y use 10 iteraciones en cada uno de los siguientes métodos para aproximar esta raíz. ¿Cuál método es más eficaz y por qué?**"
   ]
  },
  {
   "cell_type": "markdown",
   "id": "d37326c0",
   "metadata": {},
   "source": [
    "##### a. \tMétodo de bisección"
   ]
  },
  {
   "cell_type": "code",
   "execution_count": 80,
   "id": "a6458aa7",
   "metadata": {},
   "outputs": [],
   "source": [
    "def metodo_de_biseccion(f, a, b, tol, max_iter):\n",
    "    if f(a) * f(b) >= 0:\n",
    "        raise ValueError(\"f(a) and f(b) must have different signs\")\n",
    "    \n",
    "    n = 0\n",
    "    while (b - a) / 2 > tol and n < max_iter:\n",
    "        midpoint = (a + b) / 2\n",
    "        if f(midpoint) == 0:\n",
    "            return midpoint, n\n",
    "        elif f(a) * f(midpoint) < 0:\n",
    "            b = midpoint\n",
    "        else:\n",
    "            a = midpoint\n",
    "        n += 1\n",
    "    \n",
    "    return midpoint"
   ]
  },
  {
   "cell_type": "code",
   "execution_count": 81,
   "id": "657d5a21",
   "metadata": {},
   "outputs": [
    {
     "name": "stdout",
     "output_type": "stream",
     "text": [
      "a = 0 y b = 0.48\n",
      "Raíz aproximada: 0.44765625, Iteraciones totales: 10\n"
     ]
    }
   ],
   "source": [
    "def f_5a(x):\n",
    "    return np.tan(np.pi*x) - 6\n",
    "\n",
    "print(\"a = 0 y b = 0.48\")\n",
    "resultado= metodo_de_biseccion(f_5a, 0, 0.48, 1e-6, 10)\n",
    "print(f\"Raíz aproximada: {resultado}, Iteraciones totales: {10}\")"
   ]
  },
  {
   "cell_type": "markdown",
   "id": "e6662b99",
   "metadata": {},
   "source": [
    "##### b.\tMétodo de Newton"
   ]
  },
  {
   "cell_type": "code",
   "execution_count": 82,
   "id": "a5a36130",
   "metadata": {},
   "outputs": [],
   "source": [
    "def f_5a_prime(x):\n",
    "    return (np.pi / np.cos(np.pi*x)**2)\n",
    "\n",
    "def metodo_Newton(f, fprime, x0, tol, max_iter):\n",
    "    x = x0\n",
    "    n = 0\n",
    "    while n < max_iter:\n",
    "        x = x - f(x) / fprime(x)\n",
    "        n += 1\n",
    "        if n == 10:  # Imprimir resultado cuando n = 2\n",
    "            return x, n\n",
    "    \n",
    "    return x, n"
   ]
  },
  {
   "cell_type": "code",
   "execution_count": 83,
   "id": "1a77e348",
   "metadata": {},
   "outputs": [
    {
     "name": "stdout",
     "output_type": "stream",
     "text": [
      "Punto medio x0 = 0.24\n",
      "Raíz aproximada: 5.447431543288746, Iteraciones totales: 10\n"
     ]
    }
   ],
   "source": [
    "print(\"Punto medio x0 = 0.24\")\n",
    "resultado, iteraciones = metodo_Newton(f_5a, f_5a_prime, 0.24, 1e-6, 10)\n",
    "print(f\"Raíz aproximada: {resultado}, Iteraciones totales: {iteraciones}\")"
   ]
  },
  {
   "cell_type": "markdown",
   "id": "09b20997",
   "metadata": {},
   "source": [
    "#### c.\tMétodo de la secante"
   ]
  },
  {
   "cell_type": "code",
   "execution_count": 84,
   "id": "1c859a74",
   "metadata": {},
   "outputs": [],
   "source": [
    "def metodo_secante(f, x0, x1, max_iter):\n",
    "    n = 0\n",
    "    while n < max_iter:\n",
    "        x_temp = x1 - (f(x1) * (x1 - x0)) / (f(x1) - f(x0))\n",
    "        x0, x1 = x1, x_temp\n",
    "        n += 1\n",
    "        if n == 10:  # Imprimir resultado cuando n = 2\n",
    "            return x1, n\n",
    "    \n",
    "    return x1, n"
   ]
  },
  {
   "cell_type": "code",
   "execution_count": 85,
   "id": "fadaf43a",
   "metadata": {},
   "outputs": [
    {
     "name": "stdout",
     "output_type": "stream",
     "text": [
      "x0 = 0 y x1 = 0.48\n",
      "Raíz aproximada metodo de la secante: -2989.9400375314453, Iteraciones totales: 10\n"
     ]
    }
   ],
   "source": [
    "print(\"x0 = 0 y x1 = 0.48\")\n",
    "resultado_secante, iteraciones_secante = metodo_secante(f_5a, 0, 0.48, 10)\n",
    "print(f\"Raíz aproximada metodo de la secante: {resultado_secante}, Iteraciones totales: {iteraciones_secante}\")"
   ]
  },
  {
   "cell_type": "markdown",
   "id": "d1ab9297",
   "metadata": {},
   "source": [
    "#### **6.\tLa función descrita por $$ f(x) = \\ln(x^2 + 1) - e^{0.4x} \\cos(\\pi x) $$ tiene un numero infinito de ceros.**"
   ]
  },
  {
   "cell_type": "markdown",
   "id": "6a226d8b",
   "metadata": {},
   "source": [
    "##### \ta. Determine, dentro de 10^(-6), el único cero negativo."
   ]
  },
  {
   "cell_type": "code",
   "execution_count": 86,
   "id": "fddaf59a",
   "metadata": {},
   "outputs": [
    {
     "name": "stdout",
     "output_type": "stream",
     "text": [
      "Raíz aproximada metodo de la secante: -0.43414304331649, Iteraciones totales: 4\n"
     ]
    }
   ],
   "source": [
    "def f_6(x):\n",
    "    return np.log(x**2 + 1) - np.exp(0.4*x) * np.cos(np.pi*x)\n",
    "\n",
    "def f_6_prime(x):\n",
    "    return (2*x) / (x**2 + 1) - 0.4 * np.exp(0.4*x) * np.cos(np.pi*x) - np.pi * np.exp(0.4*x) * np.sin(np.pi*x)\n",
    "\n",
    "resultado, iteraciones = metodo_de_la_secante_2(f_6, -1, 0, 1e-5)\n",
    "print(f\"Raíz aproximada metodo de la secante: {resultado}, Iteraciones totales: {iteraciones}\")"
   ]
  },
  {
   "cell_type": "markdown",
   "id": "e12004c9",
   "metadata": {},
   "source": [
    "##### b. \tDetermine, dentro de 10^(-6), los cuatro ceros positivos más pequeños."
   ]
  },
  {
   "cell_type": "code",
   "execution_count": 87,
   "id": "dfdc2737",
   "metadata": {},
   "outputs": [
    {
     "name": "stdout",
     "output_type": "stream",
     "text": [
      "Raíces positivas en los intervalos:\n",
      "Intervalo [0, 1]: 0.4506567477778335, Iteraciones totales: 5\n",
      "Intervalo [1, 2]: 1.7447379923900492, Iteraciones totales: 5\n",
      "Intervalo [2, 3]: 2.238319793328979, Iteraciones totales: 7\n",
      "Intervalo [3, 4]: 3.7090412012640455, Iteraciones totales: 5\n"
     ]
    }
   ],
   "source": [
    "intervalos = [(0, 1), (1, 2), (2, 3), (3, 4)]\n",
    "ceros_Positivos = [metodo_de_la_secante_2(f_6, a, b, 1e-6) for a, b in intervalos]\n",
    "print(\"Raíces positivas en los intervalos:\")\n",
    "for i, (a, b) in enumerate(intervalos):\n",
    "    print(f\"Intervalo [{a}, {b}]: {ceros_Positivos[i][0]}, Iteraciones totales: {ceros_Positivos[i][1]}\")"
   ]
  },
  {
   "cell_type": "markdown",
   "id": "1d7ed2c8",
   "metadata": {},
   "source": [
    "##### c. \tDetermine una aproximación inicial razonable para encontrar el enésimo cero positivo más pequeño de f. [Sugerencia: Dibuje una gráfica aproximada de f.]"
   ]
  },
  {
   "cell_type": "code",
   "execution_count": 96,
   "id": "fa537bee",
   "metadata": {},
   "outputs": [
    {
     "data": {
      "image/png": "[encoded data removed]",
      "text/plain": [
       "<Figure size 640x480 with 1 Axes>"
      ]
     },
     "metadata": {},
     "output_type": "display_data"
    }
   ],
   "source": [
    "import matplotlib.pyplot as plt\n",
    "\n",
    "x = np.linspace(-1, 20, 500)\n",
    "y = f_6(x)\n",
    "plt.plot(x, y, label='f(x)')\n",
    "plt.axhline(0, color='red', linestyle='-')\n",
    "plt.title('Gráfica de la función f(x)')\n",
    "plt.xlabel('x')\n",
    "plt.ylabel('f(x)')\n",
    "plt.legend()\n",
    "plt.grid()\n",
    "plt.show()"
   ]
  },
  {
   "cell_type": "markdown",
   "id": "b18a0e83",
   "metadata": {},
   "source": [
    "##### d. \tUse la parte c) para determinar, dentro de 10^(-6), el vigesimoquinto cero positivo más pequeño de f."
   ]
  },
  {
   "cell_type": "code",
   "execution_count": 97,
   "id": "4db805e0",
   "metadata": {},
   "outputs": [
    {
     "name": "stdout",
     "output_type": "stream",
     "text": [
      "n = 25\n",
      "Raíz aproximada metodo de la secante: 24.49988704744595, Iteraciones totales: 6\n"
     ]
    }
   ],
   "source": [
    "print(\"n = 25\")\n",
    "resultado, iteraciones = metodo_de_la_secante_2(f_6, 24, 25, 1e-6)\n",
    "print(f\"Raíz aproximada metodo de la secante: {resultado}, Iteraciones totales: {iteraciones}\")"
   ]
  },
  {
   "cell_type": "markdown",
   "id": "0b12fd11",
   "metadata": {},
   "source": [
    "#### **7. \tLa función $$ f(x) = x^{\\frac{1}{3}} $$ tiene raíz en x=0. Usando el punto de inicio de x=1 y p_o=5,p_1=0.5 para el método de secante, compare los resultados de los métodos de la secante y de Newton.**"
   ]
  },
  {
   "cell_type": "code",
   "execution_count": 99,
   "id": "64793ebf",
   "metadata": {},
   "outputs": [],
   "source": [
    "def f_7(x):\n",
    "    return x**(1/3)\n",
    "\n",
    "def f_7_prime(x):\n",
    "    return (1/3) * x**(-2/3)\n",
    "\n",
    "def metodo_Newton_limitada(f, fprime, x0, tol, max_iter):\n",
    "    x = x0\n",
    "    n = 0\n",
    "    while abs(f(x)) > tol and n < max_iter:\n",
    "        x = x - f(x) / fprime(x)\n",
    "        n += 1\n",
    "        # Imprimir si no converge en n iteraciones\n",
    "        if n == max_iter:\n",
    "            print(f\"No converge en {max_iter} iteraciones\")\n",
    "            return None, n\n",
    "    \n",
    "    return x, n\n",
    "\n",
    "def metodo_Secante_limitada(f, x0, x1, tol, max_iter):\n",
    "    n = 0\n",
    "    while abs(f(x1)) > tol and n < max_iter:\n",
    "        x_temp = x1 - (f(x1) * (x1 - x0)) / (f(x1) - f(x0))\n",
    "        x0, x1 = x1, x_temp\n",
    "        n += 1\n",
    "        # Imprimir si no converge en n iteraciones\n",
    "        if n == max_iter:\n",
    "            print(f\"No converge en {max_iter} iteraciones\")\n",
    "            return None, n\n",
    "    \n",
    "    return x1, n"
   ]
  },
  {
   "cell_type": "markdown",
   "id": "340355a6",
   "metadata": {},
   "source": [
    "##### a. Método Newton"
   ]
  },
  {
   "cell_type": "code",
   "execution_count": 100,
   "id": "c082b6e0",
   "metadata": {},
   "outputs": [
    {
     "name": "stdout",
     "output_type": "stream",
     "text": [
      "x0=1\n",
      "No converge en 100 iteraciones\n",
      "Raíz aproximada metodo de Newton: None, Iteraciones totales: 100\n"
     ]
    }
   ],
   "source": [
    "print(\"x0=1\")\n",
    "resultado, iteraciones = metodo_Newton_limitada(f_7, f_7_prime, 1, 1e-6, 100)\n",
    "print(f\"Raíz aproximada metodo de Newton: {resultado}, Iteraciones totales: {iteraciones}\")"
   ]
  },
  {
   "cell_type": "markdown",
   "id": "433a681f",
   "metadata": {},
   "source": [
    "##### b. Método Secante"
   ]
  },
  {
   "cell_type": "code",
   "execution_count": 101,
   "id": "19374a8e",
   "metadata": {},
   "outputs": [
    {
     "name": "stdout",
     "output_type": "stream",
     "text": [
      "p0 = 5, p1 = 0.5\n",
      "No converge en 100 iteraciones\n",
      "Raíz aproximada metodo de la secante: None, Iteraciones totales: 100\n"
     ]
    }
   ],
   "source": [
    "print(\"p0 = 5, p1 = 0.5\")\n",
    "resultado_secante, iteraciones_secante = metodo_Secante_limitada(f_7, 5, 0.5, 1e-6, 100)\n",
    "print(f\"Raíz aproximada metodo de la secante: {resultado_secante}, Iteraciones totales: {iteraciones_secante}\")"
   ]
  }
 ],
 "metadata": {
  "kernelspec": {
   "display_name": "Python 3",
   "language": "python",
   "name": "python3"
  },
  "language_info": {
   "codemirror_mode": {
    "name": "ipython",
    "version": 3
   },
   "file_extension": ".py",
   "mimetype": "text/x-python",
   "name": "python",
   "nbconvert_exporter": "python",
   "pygments_lexer": "ipython3",
   "version": "3.13.3"
  }
 },
 "nbformat": 4,
 "nbformat_minor": 5
}

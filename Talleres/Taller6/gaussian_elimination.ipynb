{
 "cells": [
  {
   "cell_type": "markdown",
   "metadata": {},
   "source": [
    "# Eliminación Gaussiana con sustitución hacia atrás"
   ]
  },
  {
   "cell_type": "code",
   "execution_count": 1,
   "metadata": {},
   "outputs": [],
   "source": [
    "%load_ext autoreload"
   ]
  },
  {
   "cell_type": "code",
   "execution_count": 2,
   "metadata": {},
   "outputs": [
    {
     "name": "stdout",
     "output_type": "stream",
     "text": [
      "[06-24 16:41:51][INFO] 2025-06-24 16:41:51.932874\n"
     ]
    },
    {
     "name": "stdout",
     "output_type": "stream",
     "text": [
      "[06-24 16:41:54][INFO] \n",
      "[[  1   1   0   3   4]\n",
      " [  0  -1  -1  -5  -7]\n",
      " [  0  -4  -1  -7 -15]\n",
      " [  0   3   3   2   8]]\n",
      "[06-24 16:41:54][INFO] \n",
      "[[  1   1   0   3   4]\n",
      " [  0  -1  -1  -5  -7]\n",
      " [  0   0   3  13  13]\n",
      " [  0   0   0 -13 -13]]\n",
      "[06-24 16:41:54][INFO] \n",
      "[[  1   1   0   3   4]\n",
      " [  0  -1  -1  -5  -7]\n",
      " [  0   0   3  13  13]\n",
      " [  0   0   0 -13 -13]]\n"
     ]
    },
    {
     "data": {
      "text/plain": [
       "array([-1.,  2.,  0.,  1.])"
      ]
     },
     "execution_count": 2,
     "metadata": {},
     "output_type": "execute_result"
    }
   ],
   "source": [
    "%autoreload 2\n",
    "from src import eliminacion_gaussiana\n",
    "\n",
    "Ab = [[1, 1, 0, 3, 4], [2, 1, -1, 1, 1], [3, -1, -1, 2, -3], [-1, 2, 3, -1, 4]]\n",
    "\n",
    "eliminacion_gaussiana(Ab)"
   ]
  },
  {
   "cell_type": "code",
   "execution_count": 3,
   "metadata": {},
   "outputs": [
    {
     "name": "stdout",
     "output_type": "stream",
     "text": [
      "[06-24 16:41:57][INFO] \n",
      "[[ 1 -1  2 -1 -8]\n",
      " [ 0  0 -1 -1 -4]\n",
      " [ 0  2 -1  1  6]\n",
      " [ 0  0  2  4 12]]\n",
      "[06-24 16:41:57][INFO] \n",
      "[[ 1 -1  2 -1 -8]\n",
      " [ 0  2 -1  1  6]\n",
      " [ 0  0 -1 -1 -4]\n",
      " [ 0  0  2  4 12]]\n",
      "[06-24 16:41:57][INFO] \n",
      "[[ 1 -1  2 -1 -8]\n",
      " [ 0  2 -1  1  6]\n",
      " [ 0  0 -1 -1 -4]\n",
      " [ 0  0  0  2  4]]\n"
     ]
    },
    {
     "data": {
      "text/plain": [
       "array([-7.,  3.,  2.,  2.])"
      ]
     },
     "execution_count": 3,
     "metadata": {},
     "output_type": "execute_result"
    }
   ],
   "source": [
    "%autoreload 2\n",
    "from src import eliminacion_gaussiana\n",
    "\n",
    "Ab = [[1, -1, 2, -1, -8], [2, -2, 3, -3, -20], [1, 1, 1, 0, -2], [1, -1, 4, 3, 4]]\n",
    "\n",
    "eliminacion_gaussiana(Ab)"
   ]
  },
  {
   "cell_type": "markdown",
   "metadata": {},
   "source": [
    "# Soluciones infinitas\n",
    "El siguiente sistema de ecuaciones tiene soluciones infinitas:\n",
    "\n",
    "|   |   |   |   |\n",
    "|---|---|---|---|\n",
    "| 1 | 1 | 1 | 4 |\n",
    "| 2 | 2 | 1 | 6 |\n",
    "| 1 | 1 | 2 | 6 |\n",
    "\n",
    "\n"
   ]
  },
  {
   "cell_type": "code",
   "execution_count": 4,
   "metadata": {},
   "outputs": [
    {
     "name": "stdout",
     "output_type": "stream",
     "text": [
      "[06-24 16:42:01][INFO] \n",
      "[[ 1  1  1  4]\n",
      " [ 0  0 -1 -2]\n",
      " [ 0  0  1  2]]\n"
     ]
    },
    {
     "ename": "ValueError",
     "evalue": "No existe solución única.",
     "output_type": "error",
     "traceback": [
      "\u001b[31m---------------------------------------------------------------------------\u001b[39m",
      "\u001b[31mValueError\u001b[39m                                Traceback (most recent call last)",
      "\u001b[36mCell\u001b[39m\u001b[36m \u001b[39m\u001b[32mIn[4]\u001b[39m\u001b[32m, line 7\u001b[39m\n\u001b[32m      3\u001b[39m \u001b[38;5;28;01mfrom\u001b[39;00m\u001b[38;5;250m \u001b[39m\u001b[34;01msrc\u001b[39;00m\u001b[38;5;250m \u001b[39m\u001b[38;5;28;01mimport\u001b[39;00m eliminacion_gaussiana\n\u001b[32m      5\u001b[39m Ab = [[\u001b[32m1\u001b[39m, \u001b[32m1\u001b[39m, \u001b[32m1\u001b[39m, \u001b[32m4\u001b[39m], [\u001b[32m2\u001b[39m, \u001b[32m2\u001b[39m, \u001b[32m1\u001b[39m, \u001b[32m6\u001b[39m], [\u001b[32m1\u001b[39m, \u001b[32m1\u001b[39m, \u001b[32m2\u001b[39m, \u001b[32m6\u001b[39m]]\n\u001b[32m----> \u001b[39m\u001b[32m7\u001b[39m \u001b[43meliminacion_gaussiana\u001b[49m\u001b[43m(\u001b[49m\u001b[43mAb\u001b[49m\u001b[43m)\u001b[49m\n",
      "\u001b[36mFile \u001b[39m\u001b[32mc:\\Users\\santi\\OneDrive\\Documentos\\GitHub\\Metodos_Numericos_GRCC1\\Talleres\\Taller6\\src\\linear_sist_methods.py:65\u001b[39m, in \u001b[36meliminacion_gaussiana\u001b[39m\u001b[34m(A)\u001b[39m\n\u001b[32m     61\u001b[39m         p = pi\n\u001b[32m     63\u001b[39m \u001b[38;5;28;01mif\u001b[39;00m p \u001b[38;5;129;01mis\u001b[39;00m \u001b[38;5;28;01mNone\u001b[39;00m:\n\u001b[32m     64\u001b[39m     \u001b[38;5;66;03m# no pivot found.\u001b[39;00m\n\u001b[32m---> \u001b[39m\u001b[32m65\u001b[39m     \u001b[38;5;28;01mraise\u001b[39;00m \u001b[38;5;167;01mValueError\u001b[39;00m(\u001b[33m\"\u001b[39m\u001b[33mNo existe solución única.\u001b[39m\u001b[33m\"\u001b[39m)\n\u001b[32m     67\u001b[39m \u001b[38;5;28;01mif\u001b[39;00m p != i:\n\u001b[32m     68\u001b[39m     \u001b[38;5;66;03m# swap rows\u001b[39;00m\n\u001b[32m     69\u001b[39m     logging.debug(\u001b[33mf\u001b[39m\u001b[33m\"\u001b[39m\u001b[33mIntercambiando filas \u001b[39m\u001b[38;5;132;01m{\u001b[39;00mi\u001b[38;5;132;01m}\u001b[39;00m\u001b[33m y \u001b[39m\u001b[38;5;132;01m{\u001b[39;00mp\u001b[38;5;132;01m}\u001b[39;00m\u001b[33m\"\u001b[39m)\n",
      "\u001b[31mValueError\u001b[39m: No existe solución única."
     ]
    }
   ],
   "source": [
    "# %load_ext autoreload\n",
    "%autoreload 2\n",
    "from src import eliminacion_gaussiana\n",
    "\n",
    "Ab = [[1, 1, 1, 4], [2, 2, 1, 6], [1, 1, 2, 6]]\n",
    "\n",
    "eliminacion_gaussiana(Ab)"
   ]
  },
  {
   "cell_type": "markdown",
   "metadata": {},
   "source": [
    "# Sin solución\n",
    "El siguiente sistema de ecuaciones no tiene solución:\n",
    "\n",
    "|   |   |   |   |\n",
    "|---|---|---|---|\n",
    "| 1 | 1 | 1 | 4 |\n",
    "| 2 | 2 | 1 | 4 |\n",
    "| 1 | 1 | 2 | 6 |"
   ]
  },
  {
   "cell_type": "code",
   "execution_count": 5,
   "metadata": {},
   "outputs": [
    {
     "name": "stdout",
     "output_type": "stream",
     "text": [
      "[06-24 16:42:07][INFO] \n",
      "[[ 1  1  1  4]\n",
      " [ 0  0 -1 -4]\n",
      " [ 0  0  1  2]]\n"
     ]
    },
    {
     "ename": "ValueError",
     "evalue": "No existe solución única.",
     "output_type": "error",
     "traceback": [
      "\u001b[31m---------------------------------------------------------------------------\u001b[39m",
      "\u001b[31mValueError\u001b[39m                                Traceback (most recent call last)",
      "\u001b[36mCell\u001b[39m\u001b[36m \u001b[39m\u001b[32mIn[5]\u001b[39m\u001b[32m, line 7\u001b[39m\n\u001b[32m      3\u001b[39m \u001b[38;5;28;01mfrom\u001b[39;00m\u001b[38;5;250m \u001b[39m\u001b[34;01msrc\u001b[39;00m\u001b[38;5;250m \u001b[39m\u001b[38;5;28;01mimport\u001b[39;00m eliminacion_gaussiana\n\u001b[32m      5\u001b[39m Ab = [[\u001b[32m1\u001b[39m, \u001b[32m1\u001b[39m, \u001b[32m1\u001b[39m, \u001b[32m4\u001b[39m], [\u001b[32m2\u001b[39m, \u001b[32m2\u001b[39m, \u001b[32m1\u001b[39m, \u001b[32m4\u001b[39m], [\u001b[32m1\u001b[39m, \u001b[32m1\u001b[39m, \u001b[32m2\u001b[39m, \u001b[32m6\u001b[39m]]\n\u001b[32m----> \u001b[39m\u001b[32m7\u001b[39m \u001b[43meliminacion_gaussiana\u001b[49m\u001b[43m(\u001b[49m\u001b[43mAb\u001b[49m\u001b[43m)\u001b[49m\n",
      "\u001b[36mFile \u001b[39m\u001b[32mc:\\Users\\santi\\OneDrive\\Documentos\\GitHub\\Metodos_Numericos_GRCC1\\Talleres\\Taller6\\src\\linear_sist_methods.py:65\u001b[39m, in \u001b[36meliminacion_gaussiana\u001b[39m\u001b[34m(A)\u001b[39m\n\u001b[32m     61\u001b[39m         p = pi\n\u001b[32m     63\u001b[39m \u001b[38;5;28;01mif\u001b[39;00m p \u001b[38;5;129;01mis\u001b[39;00m \u001b[38;5;28;01mNone\u001b[39;00m:\n\u001b[32m     64\u001b[39m     \u001b[38;5;66;03m# no pivot found.\u001b[39;00m\n\u001b[32m---> \u001b[39m\u001b[32m65\u001b[39m     \u001b[38;5;28;01mraise\u001b[39;00m \u001b[38;5;167;01mValueError\u001b[39;00m(\u001b[33m\"\u001b[39m\u001b[33mNo existe solución única.\u001b[39m\u001b[33m\"\u001b[39m)\n\u001b[32m     67\u001b[39m \u001b[38;5;28;01mif\u001b[39;00m p != i:\n\u001b[32m     68\u001b[39m     \u001b[38;5;66;03m# swap rows\u001b[39;00m\n\u001b[32m     69\u001b[39m     logging.debug(\u001b[33mf\u001b[39m\u001b[33m\"\u001b[39m\u001b[33mIntercambiando filas \u001b[39m\u001b[38;5;132;01m{\u001b[39;00mi\u001b[38;5;132;01m}\u001b[39;00m\u001b[33m y \u001b[39m\u001b[38;5;132;01m{\u001b[39;00mp\u001b[38;5;132;01m}\u001b[39;00m\u001b[33m\"\u001b[39m)\n",
      "\u001b[31mValueError\u001b[39m: No existe solución única."
     ]
    }
   ],
   "source": [
    "# %load_ext autoreload\n",
    "%autoreload 2\n",
    "from src import eliminacion_gaussiana\n",
    "\n",
    "Ab = [[1, 1, 1, 4], [2, 2, 1, 4], [1, 1, 2, 6]]\n",
    "\n",
    "eliminacion_gaussiana(Ab)"
   ]
  }
 ],
 "metadata": {
  "kernelspec": {
   "display_name": "Python 3",
   "language": "python",
   "name": "python3"
  },
  "language_info": {
   "codemirror_mode": {
    "name": "ipython",
    "version": 3
   },
   "file_extension": ".py",
   "mimetype": "text/x-python",
   "name": "python",
   "nbconvert_exporter": "python",
   "pygments_lexer": "ipython3",
   "version": "3.11.9"
  }
 },
 "nbformat": 4,
 "nbformat_minor": 2
}
